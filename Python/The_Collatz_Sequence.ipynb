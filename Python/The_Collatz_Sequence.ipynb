{
  "nbformat": 4,
  "nbformat_minor": 0,
  "metadata": {
    "colab": {
      "provenance": [],
      "authorship_tag": "ABX9TyPoB63gA8+djS8ZyYJ8Koho",
      "include_colab_link": true
    },
    "kernelspec": {
      "name": "python3",
      "display_name": "Python 3"
    },
    "language_info": {
      "name": "python"
    }
  },
  "cells": [
    {
      "cell_type": "markdown",
      "metadata": {
        "id": "view-in-github",
        "colab_type": "text"
      },
      "source": [
        "<a href=\"https://colab.research.google.com/github/FBaradin/Data-Analyst-Portfolio/blob/main/Python/The_Collatz_Sequence.ipynb\" target=\"_parent\"><img src=\"https://colab.research.google.com/assets/colab-badge.svg\" alt=\"Open In Colab\"/></a>"
      ]
    },
    {
      "cell_type": "markdown",
      "source": [
        "#Practice project\n",
        "\n",
        "##The Collatz Sequence\n",
        "\n",
        "Write a function named collatz() that has one parameter named number. If number is even, then collatz() should print number // 2 and return this value. If number is odd, then collatz() should print and return 3 * number + 1.\n",
        "\n",
        "Then write a program that lets the user type in an integer and that keeps calling collatz() on that number until the function returns the value 1. (Amazingly enough, this sequence actually works for any integer—sooner or later, using this sequence, you’ll arrive at 1! Even mathematicians aren’t sure why. Your program is exploring what’s called the Collatz sequence, sometimes called “the simplest impossible math problem.”)\n",
        "\n",
        "Remember to convert the return value from input() to an integer with the int() function; otherwise, it will be a string value."
      ],
      "metadata": {
        "id": "GhDyjSvER3VD"
      }
    },
    {
      "cell_type": "code",
      "source": [
        "def collatz(number) :\n",
        "  while number != 1 :\n",
        "    if number % 2 == 0 :\n",
        "      number = number / 2\n",
        "      print (number)\n",
        "    else :\n",
        "      number = 3*number+1\n",
        "      print (number)\n",
        "  if number == 1:\n",
        "      print ('Our job is done')\n",
        "\n",
        "try:\n",
        "  collatz(int(input()))\n",
        "\n",
        "except:\n",
        "  print('Please enter a valid number')\n",
        "  collatz(int(input()))"
      ],
      "metadata": {
        "colab": {
          "base_uri": "https://localhost:8080/"
        },
        "id": "x8QfJxcrSh71",
        "outputId": "1d56fbfc-73ec-4e8e-f179-80b36fece26b"
      },
      "execution_count": 1,
      "outputs": [
        {
          "output_type": "stream",
          "name": "stdout",
          "text": [
            "434\n",
            "217.0\n",
            "652.0\n",
            "326.0\n",
            "163.0\n",
            "490.0\n",
            "245.0\n",
            "736.0\n",
            "368.0\n",
            "184.0\n",
            "92.0\n",
            "46.0\n",
            "23.0\n",
            "70.0\n",
            "35.0\n",
            "106.0\n",
            "53.0\n",
            "160.0\n",
            "80.0\n",
            "40.0\n",
            "20.0\n",
            "10.0\n",
            "5.0\n",
            "16.0\n",
            "8.0\n",
            "4.0\n",
            "2.0\n",
            "1.0\n",
            "Our job is done\n"
          ]
        }
      ]
    }
  ]
}