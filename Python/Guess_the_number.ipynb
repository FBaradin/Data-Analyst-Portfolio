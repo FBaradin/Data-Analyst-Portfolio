{
  "nbformat": 4,
  "nbformat_minor": 0,
  "metadata": {
    "colab": {
      "provenance": [],
      "authorship_tag": "ABX9TyPNGmdzNLQ9bY+/ZjH8b5YR",
      "include_colab_link": true
    },
    "kernelspec": {
      "name": "python3",
      "display_name": "Python 3"
    },
    "language_info": {
      "name": "python"
    }
  },
  "cells": [
    {
      "cell_type": "markdown",
      "metadata": {
        "id": "view-in-github",
        "colab_type": "text"
      },
      "source": [
        "<a href=\"https://colab.research.google.com/github/FBaradin/Data-Analyst-Portfolio/blob/main/Python/Guess_the_number.ipynb\" target=\"_parent\"><img src=\"https://colab.research.google.com/assets/colab-badge.svg\" alt=\"Open In Colab\"/></a>"
      ]
    },
    {
      "cell_type": "markdown",
      "source": [
        "#Section 5: Writing a complete program: Guess the number"
      ],
      "metadata": {
        "id": "3npxnkFYCgbT"
      }
    },
    {
      "cell_type": "code",
      "execution_count": 15,
      "metadata": {
        "colab": {
          "base_uri": "https://localhost:8080/"
        },
        "id": "4drP9CpK_1N_",
        "outputId": "6d9c24fc-989a-4aef-f648-72b5cb90df45"
      },
      "outputs": [
        {
          "output_type": "stream",
          "name": "stdout",
          "text": [
            "Hello, What is your name?\n",
            "Fran\n",
            "Well, Fran , lets play a game\n",
            "Take a guess\n",
            "10\n",
            "Your number is too low\n",
            "Take a guess\n",
            "15\n",
            "Your number is too low\n",
            "Take a guess\n",
            "18\n",
            "Your number is too high\n",
            "Take a guess\n",
            "16\n",
            "Your number is too low\n",
            "Take a guess\n",
            "17\n",
            "You did it in 5 times.\n"
          ]
        }
      ],
      "source": [
        "import random\n",
        "\n",
        "print ('Hello, What is your name?')\n",
        "\n",
        "name = input()\n",
        "print('Well,', name, ', lets play a game')\n",
        "\n",
        "secretNumber = random.randint(1,20)\n",
        "\n",
        "for guessesTaken in range(1, 7):\n",
        "  print('Take a guess')\n",
        "  guess=int(input())\n",
        "\n",
        "  if guess > secretNumber:\n",
        "    print ('Your number is too high')\n",
        "  elif guess < secretNumber:\n",
        "    print ('Your number is too low')\n",
        "  else:\n",
        "    break\n",
        "\n",
        "if guess == secretNumber :\n",
        "  print ('You did it in', str(guessesTaken),'times.')\n",
        "else:\n",
        "  print('You are not great at this. You did not guess it in',str(guessesTaken),'times.')\n",
        "\n"
      ]
    }
  ]
}